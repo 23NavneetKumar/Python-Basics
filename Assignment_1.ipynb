{
  "nbformat": 4,
  "nbformat_minor": 0,
  "metadata": {
    "colab": {
      "provenance": []
    },
    "kernelspec": {
      "name": "python3",
      "display_name": "Python 3"
    },
    "language_info": {
      "name": "python"
    }
  },
  "cells": [
    {
      "cell_type": "markdown",
      "source": [
        "# Python Basics Questions"
      ],
      "metadata": {
        "id": "9yg2Xwp3HSU2"
      }
    },
    {
      "cell_type": "markdown",
      "source": [
        "1. What is Python, and why is it popular\n",
        "\n",
        "- Python is a programming language that is widely popular nowadays because of the features it provides. This language is interpreted, versatile, and very easy to learn and use. One of the best things about Python is that it offers a vast number of libraries for different kinds of use cases."
      ],
      "metadata": {
        "id": "BN4h2drIeP4z"
      }
    },
    {
      "cell_type": "markdown",
      "source": [
        "2. What is an interpreter in Python\n",
        "- Python translates the high-level code into machine-understandable instructions at runtime, instead of compiling the whole code into a separate executable file first.\n",
        " An interpreter is the program that directly executes Python code line by line."
      ],
      "metadata": {
        "id": "qL4yt7ewftak"
      }
    },
    {
      "cell_type": "markdown",
      "source": [
        "3. What are pre defined keywords in Python\n",
        "- In Python, pre-defined keywords are the reserved words that have special meaning and purpose in the language.\n",
        "\n",
        "They are part of Python’s syntax and you cannot use them as identifiers (like variable names, function names etc).\n",
        "\n",
        "Some examples of Python  pre defined keywords are:\n",
        "if, else, while, for, break, class, def, import etc"
      ],
      "metadata": {
        "id": "aB8XZvD8gkpU"
      }
    },
    {
      "cell_type": "markdown",
      "source": [
        "4. Can keywords be used as variable names\n",
        "- No, keywords have their special meaning and purpose in the language. They are part of Python’s syntax, and we cannot use them as variable names."
      ],
      "metadata": {
        "id": "SQf29e4sGt01"
      }
    },
    {
      "cell_type": "markdown",
      "source": [
        "5. What is mutability in Python\n",
        "- Mutability refers to the ability of an object to be changed after creation. Some mutable objects in Python are lists, dictionaries, and sets."
      ],
      "metadata": {
        "id": "JQxWnI74Idjw"
      }
    },
    {
      "cell_type": "markdown",
      "source": [
        "6. Why are lists mutable, but tuples are immutable\n",
        "- Lists are mutable because they are designed to allow changes like adding, removing, or modifying elements, while tuples are immutable to ensure fixed, unchangeable data that can be used safely as keys in dictionaries or for data integrity."
      ],
      "metadata": {
        "id": "VeBZSSO4gYjj"
      }
    },
    {
      "cell_type": "markdown",
      "source": [
        "7. What is the difference between “==” and “is” operators in Python\n",
        "- \"==\" checks if values are equal, while \"is\" checks if two variables point to the same object in memory."
      ],
      "metadata": {
        "id": "XGzBLp75MEPm"
      }
    },
    {
      "cell_type": "markdown",
      "source": [
        "8. What are logical operators in Python\n",
        "- Logical operators in Python are used to combine conditional statements: \"and\" (both true), \"or\" (at least one true), and \"not\" (reverses condition)."
      ],
      "metadata": {
        "id": "BDIoeTOrON7z"
      }
    },
    {
      "cell_type": "markdown",
      "source": [
        "9. What is type casting in Python\n",
        "- Type casting in Python means converting a value from one data type to another, like int(), float(), or str(), to make data compatible for operations."
      ],
      "metadata": {
        "id": "IlDB8tCyPPaU"
      }
    },
    {
      "cell_type": "markdown",
      "source": [
        "10. What is the difference between implicit and explicit type casting\n",
        "- Implicit type casting is done automatically by Python during operations (e.g., int → float), while explicit type casting is done manually by the programmer using functions like int(), float(), or str()."
      ],
      "metadata": {
        "id": "dR3tpPx6PwIX"
      }
    },
    {
      "cell_type": "markdown",
      "source": [
        "11. What is the purpose of conditional statements in Python\n",
        "- The purpose of conditional statements in Python is to make decisions in a program. They allow certain blocks of code to run only if a specific condition is true. This helps control the flow of the program."
      ],
      "metadata": {
        "id": "hkFC2cBHO5Ag"
      }
    },
    {
      "cell_type": "markdown",
      "source": [
        "12. How does the elif statement work\n",
        "- The elif statement works like an extra option after if. It lets you check more than one condition one by one. As soon as one condition is true, that block runs and the rest are skipped."
      ],
      "metadata": {
        "id": "lz0fMtauRMmS"
      }
    },
    {
      "cell_type": "markdown",
      "source": [
        "13. What is the difference between for and while loops\n",
        "- A for loop is used when you know how many times you want to repeat, like looping through a list or a range of numbers. A while loop is used when you keep repeating something until a condition becomes false. They are both loops, but used in different situations."
      ],
      "metadata": {
        "id": "u-UIr2uERM1i"
      }
    },
    {
      "cell_type": "markdown",
      "source": [
        "14. Describe a scenario where a while loop is more suitable than a for loop.\n",
        "- A while loop is more suitable when you don’t know the number of repetitions in advance. For example - collecting and counting cash until the counter shows \"no more cash.\" The loop will keep running as long as cash is available to count."
      ],
      "metadata": {
        "id": "MWr6ZSzlRNOU"
      }
    },
    {
      "cell_type": "markdown",
      "source": [
        "\n",
        "\n",
        "\n",
        "\n",
        "# Practical Questions"
      ],
      "metadata": {
        "id": "tSWFJ_fRRpWl"
      }
    },
    {
      "cell_type": "code",
      "source": [
        "# 1. Write a Python program to print \"Hello, World!\"\n",
        "\n",
        "print (\"Hello, World!\")\n"
      ],
      "metadata": {
        "colab": {
          "base_uri": "https://localhost:8080/"
        },
        "id": "mjbSmh4eUuhR",
        "outputId": "e808cb86-de0c-4a3c-f2e6-2e87b969cf33"
      },
      "execution_count": null,
      "outputs": [
        {
          "output_type": "stream",
          "name": "stdout",
          "text": [
            "Hello, World!\n"
          ]
        }
      ]
    },
    {
      "cell_type": "code",
      "source": [
        "# 2. Write a Python program that displays your name and age\n",
        "\n",
        "print(\"My name is : \", input(\"Enter name here : \"))\n",
        "print(\"My age is : \", int(input(\"Enter age here : \")))\n"
      ],
      "metadata": {
        "colab": {
          "base_uri": "https://localhost:8080/"
        },
        "id": "1k_RDasUVQEO",
        "outputId": "6b6c216e-ff41-432e-99fb-d33a3bdc23af"
      },
      "execution_count": null,
      "outputs": [
        {
          "output_type": "stream",
          "name": "stdout",
          "text": [
            "Enter name here : navneet\n",
            "My name is :  navneet\n",
            "Enter age here : 21\n",
            "My age is :  21\n"
          ]
        }
      ]
    },
    {
      "cell_type": "code",
      "source": [
        "# 3. Write code to print all the pre-defined keywords in Python using the keyword library\n",
        "\n",
        "import keyword\n",
        "\n",
        "for i in keyword.kwlist:\n",
        "  print (i, end = \", \")"
      ],
      "metadata": {
        "id": "czMHZsU8WvBY",
        "colab": {
          "base_uri": "https://localhost:8080/"
        },
        "outputId": "41375fea-e414-4451-ec04-ae7d592f130c"
      },
      "execution_count": null,
      "outputs": [
        {
          "output_type": "stream",
          "name": "stdout",
          "text": [
            "False, None, True, and, as, assert, async, await, break, class, continue, def, del, elif, else, except, finally, for, from, global, if, import, in, is, lambda, nonlocal, not, or, pass, raise, return, try, while, with, yield, "
          ]
        }
      ]
    },
    {
      "cell_type": "code",
      "source": [
        "# 4. Write a program that checks if a given word is a Python keyword.\n",
        "\n",
        "\n",
        "import keyword\n",
        "\n",
        "word = input(\"Enter a word : \")\n",
        "\n",
        "check = False\n",
        "for i in keyword.kwlist:\n",
        "    if word == i:\n",
        "        check = True\n",
        "        break\n",
        "\n",
        "if check:\n",
        "    print(word + \" is a Python keyword.\")\n",
        "else:\n",
        "    print(word + \" is not a Python keyword.\")\n"
      ],
      "metadata": {
        "id": "MIG4dBERVQI9",
        "colab": {
          "base_uri": "https://localhost:8080/"
        },
        "outputId": "dfccf54c-1565-4c2c-f451-4a1fb7537679"
      },
      "execution_count": null,
      "outputs": [
        {
          "output_type": "stream",
          "name": "stdout",
          "text": [
            "Enter a word : False\n",
            "False is a Python keyword.\n"
          ]
        }
      ]
    },
    {
      "cell_type": "code",
      "source": [
        "# 5. Create a list and tuple in Python, and demonstrate how attempting to change an element works differently for each.\n",
        "\n",
        "x_list = [\"my\" , \"name\", \"is\", \"Navneet\"]\n",
        "y_tuple = (\"my\" , \"name\", \"is\", \"Navneet\")\n",
        "\n",
        "print(\"list : \", x_list)\n",
        "print(\"tuple : \", y_tuple)\n",
        "\n",
        "x_list.append(\"Kumar\")\n",
        "print(\"list : \", x_list)\n",
        "\n",
        "#tuples are immutable in python ( it means you cannot made changes to the existed tuple)\n",
        "y_tuple.append(\"Kumar\")\n",
        "print(\"tuple : \", y_tuple)\n"
      ],
      "metadata": {
        "colab": {
          "base_uri": "https://localhost:8080/",
          "height": 245
        },
        "id": "8DSpG6HSjj2w",
        "outputId": "8b210f57-64a3-414e-ef99-aa187171f679"
      },
      "execution_count": null,
      "outputs": [
        {
          "output_type": "stream",
          "name": "stdout",
          "text": [
            "list :  ['my', 'name', 'is', 'Navneet']\n",
            "tuple :  ('my', 'name', 'is', 'Navneet')\n",
            "list :  ['my', 'name', 'is', 'Navneet', 'Kumar']\n"
          ]
        },
        {
          "output_type": "error",
          "ename": "AttributeError",
          "evalue": "'tuple' object has no attribute 'append'",
          "traceback": [
            "\u001b[0;31m---------------------------------------------------------------------------\u001b[0m",
            "\u001b[0;31mAttributeError\u001b[0m                            Traceback (most recent call last)",
            "\u001b[0;32m/tmp/ipython-input-916791066.py\u001b[0m in \u001b[0;36m<cell line: 0>\u001b[0;34m()\u001b[0m\n\u001b[1;32m     10\u001b[0m \u001b[0mprint\u001b[0m\u001b[0;34m(\u001b[0m\u001b[0;34m\"list : \"\u001b[0m\u001b[0;34m,\u001b[0m \u001b[0mx_list\u001b[0m\u001b[0;34m)\u001b[0m\u001b[0;34m\u001b[0m\u001b[0;34m\u001b[0m\u001b[0m\n\u001b[1;32m     11\u001b[0m \u001b[0;34m\u001b[0m\u001b[0m\n\u001b[0;32m---> 12\u001b[0;31m \u001b[0my_tuple\u001b[0m\u001b[0;34m.\u001b[0m\u001b[0mappend\u001b[0m\u001b[0;34m(\u001b[0m\u001b[0;34m\"Kumar\"\u001b[0m\u001b[0;34m)\u001b[0m\u001b[0;34m\u001b[0m\u001b[0;34m\u001b[0m\u001b[0m\n\u001b[0m\u001b[1;32m     13\u001b[0m \u001b[0mprint\u001b[0m\u001b[0;34m(\u001b[0m\u001b[0;34m\"tuple : \"\u001b[0m\u001b[0;34m,\u001b[0m \u001b[0my_tuple\u001b[0m\u001b[0;34m)\u001b[0m\u001b[0;34m\u001b[0m\u001b[0;34m\u001b[0m\u001b[0m\n",
            "\u001b[0;31mAttributeError\u001b[0m: 'tuple' object has no attribute 'append'"
          ]
        }
      ]
    },
    {
      "cell_type": "code",
      "source": [
        "# 6.  Write a function to demonstrate the behavior of mutable and immutable arguments.\n",
        "\n",
        "def change_num(n):\n",
        "    n = n + 1\n",
        "\n",
        "def change_list(lst):\n",
        "    lst.append(99)\n",
        "\n",
        "\n",
        "x = 5\n",
        "change_num(x)\n",
        "print(\"After changing number:\", x)   # no change here\n",
        "\n",
        "\n",
        "y = [1, 2, 3]\n",
        "change_list(y)\n",
        "print(\"After changing list:\", y)\n",
        "\n"
      ],
      "metadata": {
        "colab": {
          "base_uri": "https://localhost:8080/"
        },
        "id": "KO_pRhUtl9t3",
        "outputId": "5d5ad900-a5d0-408b-9c44-29bf94e3febd"
      },
      "execution_count": 34,
      "outputs": [
        {
          "output_type": "stream",
          "name": "stdout",
          "text": [
            "After changing number: 5\n",
            "After changing list: [1, 2, 3, 99]\n"
          ]
        }
      ]
    },
    {
      "cell_type": "code",
      "source": [
        "# 7.  Write a program that performs basic arithmetic operations on two user-input numbers\n",
        "\n",
        "x = int(input(\"Enter first number here : \"))\n",
        "op = input(\"Enter operater here : \")\n",
        "y = int(input(\"Enter second number here : \"))\n",
        "op_list = [\"+\", \"-\", \"/\", \"*\"]\n",
        "\n",
        "if op in op_list:\n",
        "  if op == \"+\":\n",
        "    print(\" Answer is : \", x+y )\n",
        "  elif op == \"-\":\n",
        "    print(\" Answer is : \", x-y )\n",
        "  elif op == \"/\":\n",
        "    if y == 0:\n",
        "      print(\"Divided by 0 is not allowed\")\n",
        "    else:\n",
        "      print(\" Answer is : \", x/y )\n",
        "  else:\n",
        "    print(\" Answer is : \", x*y )\n",
        "else:\n",
        "  print(\"Invalid operator ...\")\n",
        "\n",
        "\n"
      ],
      "metadata": {
        "colab": {
          "base_uri": "https://localhost:8080/"
        },
        "id": "VrRhvQ5gREdS",
        "outputId": "2eb26556-0fce-4888-c5bc-c7a2d3b48e9f"
      },
      "execution_count": null,
      "outputs": [
        {
          "output_type": "stream",
          "name": "stdout",
          "text": [
            "Enter first number here : 5\n",
            "Enter operater here : /\n",
            "Enter second number here : 3\n",
            " Answer is :  1.6666666666666667\n"
          ]
        }
      ]
    },
    {
      "cell_type": "code",
      "source": [
        "# 8. Write a program to demonstrate the use of logical operators.\n",
        "\n",
        "# Logical operators are and, or, not. let's use them to find holidays in august\n",
        "\n",
        "x = int(input(\"Enter the day : \"))\n",
        "y = input(\"Enter the weekday : \")\n",
        "\n",
        "weekdays = [\"monday\", \"tuesday\", \"wednesday\", \"thursday\", \"friday\", \"saturday\", \"sunday\"]\n",
        "\n",
        "if x == 15:\n",
        "  print(\"Independence day holiday....\")\n",
        "elif x <= 31 and weekdays == \"sunday\":\n",
        "  print(\" Sunday Holiday....\")\n",
        "elif x > 31:\n",
        "  print(\"Invalid day...\")\n",
        "elif y not in weekdays:\n",
        "  print(\"Invalid weekday...\")\n",
        "else:\n",
        "  print(\"Regular working day...\")\n",
        "\n",
        "\n",
        "\n",
        "\n"
      ],
      "metadata": {
        "colab": {
          "base_uri": "https://localhost:8080/"
        },
        "id": "UYVqdmglWn2U",
        "outputId": "52f47118-99cb-4576-dcc7-dc1d7f41e765"
      },
      "execution_count": null,
      "outputs": [
        {
          "output_type": "stream",
          "name": "stdout",
          "text": [
            "Enter the day : 12\n",
            "Enter the weekday : monday\n",
            "Regular working day...\n"
          ]
        }
      ]
    },
    {
      "cell_type": "code",
      "source": [
        "# 9. Write a Python program to convert user input from string to integer, float, and boolean types.\n",
        "\n",
        "\n",
        "a = input(\"Enter something here : \")\n",
        "\n",
        "b = float(a) # this line is important because the str directly does not convert into float\n",
        "print(\"string to integer :\", int(b))\n",
        "print(\"string to float :\", b)\n",
        "print(\"string to boolean :\", bool(b))\n"
      ],
      "metadata": {
        "id": "yWEP1UVfc_Sz",
        "colab": {
          "base_uri": "https://localhost:8080/"
        },
        "outputId": "e34ca1b7-0f3c-4873-8129-a2978958df0c"
      },
      "execution_count": null,
      "outputs": [
        {
          "output_type": "stream",
          "name": "stdout",
          "text": [
            "Enter something here : 5.7\n",
            "string to integer : 5\n",
            "string to float : 5.7\n",
            "string to boolean : True\n"
          ]
        }
      ]
    },
    {
      "cell_type": "code",
      "source": [
        "# 10. Write code to demonstrate type casting with list elements.\n",
        "\n",
        "x = [1, 2.5, \"5\", \"5.5\"]\n",
        "\n",
        "int_result = []\n",
        "for i in x:\n",
        "  i = float(i)\n",
        "  int_result.append(int(i))\n",
        "print (int_result)\n",
        "\n",
        "float_result = []\n",
        "for i in x:\n",
        "  float_result.append(float(i))\n",
        "print (float_result)\n",
        "\n",
        "bool_result = []\n",
        "for i in x:\n",
        "  i = float(i)\n",
        "  bool_result.append(bool(i))\n",
        "print (bool_result)"
      ],
      "metadata": {
        "id": "3h54OfpSdOLy",
        "colab": {
          "base_uri": "https://localhost:8080/"
        },
        "outputId": "7e2b192e-f80c-4b93-d442-9aba9f017ecc"
      },
      "execution_count": null,
      "outputs": [
        {
          "output_type": "stream",
          "name": "stdout",
          "text": [
            "[1, 2, 5, 5]\n",
            "[1.0, 2.5, 5.0, 5.5]\n",
            "[True, True, True, True]\n"
          ]
        }
      ]
    },
    {
      "cell_type": "code",
      "source": [
        "# 11. Write a program that checks if a number is positive, negative, or zero.\n",
        "\n",
        "a = (input(\"Enter a number : \"))\n",
        "\n",
        "b = float(a)\n",
        "\n",
        "if b == 0:\n",
        "  print(\"The number is zero.\")\n",
        "elif b > 0:\n",
        "  print(\"The number is positive.\")\n",
        "else:\n",
        "  print(\"The number is negative\")"
      ],
      "metadata": {
        "id": "w_X85nCqdOY9",
        "colab": {
          "base_uri": "https://localhost:8080/"
        },
        "outputId": "751716aa-c3ea-4ae1-824d-09926eaa1be6"
      },
      "execution_count": 17,
      "outputs": [
        {
          "output_type": "stream",
          "name": "stdout",
          "text": [
            "Enter a number : 0.1\n",
            "The number is positive.\n"
          ]
        }
      ]
    },
    {
      "cell_type": "code",
      "source": [
        "# 12. Write a for loop to print numbers from 1 to 10.\n",
        "\n",
        "for i in range(1, 11, 1):\n",
        "  print(i, end = \", \")"
      ],
      "metadata": {
        "id": "fJ8SurQfdOjS",
        "colab": {
          "base_uri": "https://localhost:8080/"
        },
        "outputId": "d692aa27-88de-4804-9037-ecb7b13f86d9"
      },
      "execution_count": 21,
      "outputs": [
        {
          "output_type": "stream",
          "name": "stdout",
          "text": [
            "1, 2, 3, 4, 5, 6, 7, 8, 9, 10, "
          ]
        }
      ]
    },
    {
      "cell_type": "code",
      "source": [
        "# 13. Write a Python program to find the sum of all even numbers between 1 and 50.\n",
        "\n",
        "sum  = 0\n",
        "for i in range(2, 51, 2):\n",
        "  sum = sum + i\n",
        "print(f\"The sum of all even numbers between 1 and 50 is : {sum}\")\n",
        ""
      ],
      "metadata": {
        "id": "o4nRn3CJdOsN",
        "colab": {
          "base_uri": "https://localhost:8080/"
        },
        "outputId": "05e3a040-007c-4ad3-e489-c493d8b538f4"
      },
      "execution_count": 23,
      "outputs": [
        {
          "output_type": "stream",
          "name": "stdout",
          "text": [
            "The sum of all even numbers between 1 and 50 is : 650\n"
          ]
        }
      ]
    },
    {
      "cell_type": "code",
      "source": [
        "# 14. Write a program to reverse a string using a while loop.\n",
        "\n",
        "\n",
        "str = input(\"Enter a string : \")\n",
        "\n",
        "reversed_str = \"\"\n",
        "i = len(str) - 1\n",
        "\n",
        "while i >= 0:\n",
        "    reversed_str = reversed_str + str[i]\n",
        "    i = i - 1\n",
        "\n",
        "print(\"Reversed string : \", reversed_str)\n"
      ],
      "metadata": {
        "id": "Jc6qjxBAdO0X",
        "colab": {
          "base_uri": "https://localhost:8080/"
        },
        "outputId": "f20e8d63-1889-4f92-8c9b-09a52830aa84"
      },
      "execution_count": 27,
      "outputs": [
        {
          "output_type": "stream",
          "name": "stdout",
          "text": [
            "Enter a string : PW Skills\n",
            "Reversed string :  sllikS WP\n"
          ]
        }
      ]
    },
    {
      "cell_type": "code",
      "source": [
        "# 15. Write a Python program to calculate the factorial of a number provided by the user using a while loop.\n",
        "\n",
        "x = int(input(\"Enter a number here : \"))\n",
        "\n",
        "fact = 1\n",
        "\n",
        "while x > 0:\n",
        "  fact = x * fact\n",
        "  x = x - 1\n",
        "\n",
        "print(f\"The factorial of the given number is : {fact}\")\n",
        "\n",
        "\n"
      ],
      "metadata": {
        "id": "hY4BT_AGdO8p",
        "colab": {
          "base_uri": "https://localhost:8080/"
        },
        "outputId": "dd6143a1-e2cc-4a40-ea82-2191006aece9"
      },
      "execution_count": 33,
      "outputs": [
        {
          "output_type": "stream",
          "name": "stdout",
          "text": [
            "Enter a number here : 5\n",
            "The factorial of the given number is : 120\n"
          ]
        }
      ]
    }
  ]
}